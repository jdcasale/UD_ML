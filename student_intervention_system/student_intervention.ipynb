{
 "cells": [
  {
   "cell_type": "markdown",
   "metadata": {},
   "source": [
    "# Project 2: Supervised Learning\n",
    "### Building a Student Intervention System"
   ]
  },
  {
   "cell_type": "markdown",
   "metadata": {},
   "source": [
    "## 1. Classification vs Regression\n",
    "\n",
    "Your goal is to identify students who might need early intervention - which type of supervised machine learning problem is this, classification or regression? Why?\n",
    "\n",
    "ANSWER: In this problem, we are trying to differentiate students into a discrete number classes (those who need early intervention and those who do not).  Therefore, this is a classification problem."
   ]
  },
  {
   "cell_type": "markdown",
   "metadata": {},
   "source": [
    "## 2. Exploring the Data\n",
    "\n",
    "Let's go ahead and read in the student dataset first.\n",
    "\n",
    "_To execute a code cell, click inside it and press **Shift+Enter**._"
   ]
  },
  {
   "cell_type": "code",
   "execution_count": 49,
   "metadata": {},
   "outputs": [],
   "source": [
    "# Import libraries\n",
    "import numpy as np\n",
    "import pandas as pd\n",
    "import os\n",
    "from sklearn.cross_validation import train_test_split"
   ]
  },
  {
   "cell_type": "code",
   "execution_count": 51,
   "metadata": {},
   "outputs": [
    {
     "ename": "IOError",
     "evalue": "File student-data.csv does not exist",
     "traceback": [
      "\u001b[0;31m---------------------------------------------------------------------------\u001b[0m",
      "\u001b[0;31mIOError\u001b[0m                                   Traceback (most recent call last)",
      "\u001b[0;32m<ipython-input-51-0d1e99a8d3ae>\u001b[0m in \u001b[0;36m<module>\u001b[0;34m()\u001b[0m\n\u001b[1;32m      1\u001b[0m \u001b[0;31m# Read student data\u001b[0m\u001b[0;34m\u001b[0m\u001b[0;34m\u001b[0m\u001b[0m\n\u001b[1;32m      2\u001b[0m \u001b[0;31m#fname = os.path.join(os.getcwd(), 'student_intervention_system/student-data.csv')\u001b[0m\u001b[0;34m\u001b[0m\u001b[0;34m\u001b[0m\u001b[0m\n\u001b[0;32m----> 3\u001b[0;31m \u001b[0mstudent_data\u001b[0m \u001b[0;34m=\u001b[0m \u001b[0mpd\u001b[0m\u001b[0;34m.\u001b[0m\u001b[0mread_csv\u001b[0m\u001b[0;34m(\u001b[0m\u001b[0;34m'student-data.csv'\u001b[0m\u001b[0;34m)\u001b[0m\u001b[0;34m\u001b[0m\u001b[0m\n\u001b[0m\u001b[1;32m      4\u001b[0m \u001b[0;32mprint\u001b[0m \u001b[0mstr\u001b[0m\u001b[0;34m.\u001b[0m\u001b[0mformat\u001b[0m\u001b[0;34m(\u001b[0m\u001b[0;34m\"Student data read successfully from: {}\"\u001b[0m\u001b[0;34m,\u001b[0m \u001b[0mfname\u001b[0m\u001b[0;34m)\u001b[0m\u001b[0;34m\u001b[0m\u001b[0m\n\u001b[1;32m      5\u001b[0m \u001b[0;31m# Note: The last column 'passed' is the target/label, all other are feature columns\u001b[0m\u001b[0;34m\u001b[0m\u001b[0;34m\u001b[0m\u001b[0m\n",
      "\u001b[0;32m/Users/joshcasale/sprout_env/lib/python2.7/site-packages/pandas/io/parsers.pyc\u001b[0m in \u001b[0;36mparser_f\u001b[0;34m(filepath_or_buffer, sep, dialect, compression, doublequote, escapechar, quotechar, quoting, skipinitialspace, lineterminator, header, index_col, names, prefix, skiprows, skipfooter, skip_footer, na_values, true_values, false_values, delimiter, converters, dtype, usecols, engine, delim_whitespace, as_recarray, na_filter, compact_ints, use_unsigned, low_memory, buffer_lines, warn_bad_lines, error_bad_lines, keep_default_na, thousands, comment, decimal, parse_dates, keep_date_col, dayfirst, date_parser, memory_map, float_precision, nrows, iterator, chunksize, verbose, encoding, squeeze, mangle_dupe_cols, tupleize_cols, infer_datetime_format, skip_blank_lines)\u001b[0m\n\u001b[1;32m    496\u001b[0m                     skip_blank_lines=skip_blank_lines)\n\u001b[1;32m    497\u001b[0m \u001b[0;34m\u001b[0m\u001b[0m\n\u001b[0;32m--> 498\u001b[0;31m         \u001b[0;32mreturn\u001b[0m \u001b[0m_read\u001b[0m\u001b[0;34m(\u001b[0m\u001b[0mfilepath_or_buffer\u001b[0m\u001b[0;34m,\u001b[0m \u001b[0mkwds\u001b[0m\u001b[0;34m)\u001b[0m\u001b[0;34m\u001b[0m\u001b[0m\n\u001b[0m\u001b[1;32m    499\u001b[0m \u001b[0;34m\u001b[0m\u001b[0m\n\u001b[1;32m    500\u001b[0m     \u001b[0mparser_f\u001b[0m\u001b[0;34m.\u001b[0m\u001b[0m__name__\u001b[0m \u001b[0;34m=\u001b[0m \u001b[0mname\u001b[0m\u001b[0;34m\u001b[0m\u001b[0m\n",
      "\u001b[0;32m/Users/joshcasale/sprout_env/lib/python2.7/site-packages/pandas/io/parsers.pyc\u001b[0m in \u001b[0;36m_read\u001b[0;34m(filepath_or_buffer, kwds)\u001b[0m\n\u001b[1;32m    273\u001b[0m \u001b[0;34m\u001b[0m\u001b[0m\n\u001b[1;32m    274\u001b[0m     \u001b[0;31m# Create the parser.\u001b[0m\u001b[0;34m\u001b[0m\u001b[0;34m\u001b[0m\u001b[0m\n\u001b[0;32m--> 275\u001b[0;31m     \u001b[0mparser\u001b[0m \u001b[0;34m=\u001b[0m \u001b[0mTextFileReader\u001b[0m\u001b[0;34m(\u001b[0m\u001b[0mfilepath_or_buffer\u001b[0m\u001b[0;34m,\u001b[0m \u001b[0;34m**\u001b[0m\u001b[0mkwds\u001b[0m\u001b[0;34m)\u001b[0m\u001b[0;34m\u001b[0m\u001b[0m\n\u001b[0m\u001b[1;32m    276\u001b[0m \u001b[0;34m\u001b[0m\u001b[0m\n\u001b[1;32m    277\u001b[0m     \u001b[0;32mif\u001b[0m \u001b[0;34m(\u001b[0m\u001b[0mnrows\u001b[0m \u001b[0;32mis\u001b[0m \u001b[0;32mnot\u001b[0m \u001b[0mNone\u001b[0m\u001b[0;34m)\u001b[0m \u001b[0;32mand\u001b[0m \u001b[0;34m(\u001b[0m\u001b[0mchunksize\u001b[0m \u001b[0;32mis\u001b[0m \u001b[0;32mnot\u001b[0m \u001b[0mNone\u001b[0m\u001b[0;34m)\u001b[0m\u001b[0;34m:\u001b[0m\u001b[0;34m\u001b[0m\u001b[0m\n",
      "\u001b[0;32m/Users/joshcasale/sprout_env/lib/python2.7/site-packages/pandas/io/parsers.pyc\u001b[0m in \u001b[0;36m__init__\u001b[0;34m(self, f, engine, **kwds)\u001b[0m\n\u001b[1;32m    588\u001b[0m             \u001b[0mself\u001b[0m\u001b[0;34m.\u001b[0m\u001b[0moptions\u001b[0m\u001b[0;34m[\u001b[0m\u001b[0;34m'has_index_names'\u001b[0m\u001b[0;34m]\u001b[0m \u001b[0;34m=\u001b[0m \u001b[0mkwds\u001b[0m\u001b[0;34m[\u001b[0m\u001b[0;34m'has_index_names'\u001b[0m\u001b[0;34m]\u001b[0m\u001b[0;34m\u001b[0m\u001b[0m\n\u001b[1;32m    589\u001b[0m \u001b[0;34m\u001b[0m\u001b[0m\n\u001b[0;32m--> 590\u001b[0;31m         \u001b[0mself\u001b[0m\u001b[0;34m.\u001b[0m\u001b[0m_make_engine\u001b[0m\u001b[0;34m(\u001b[0m\u001b[0mself\u001b[0m\u001b[0;34m.\u001b[0m\u001b[0mengine\u001b[0m\u001b[0;34m)\u001b[0m\u001b[0;34m\u001b[0m\u001b[0m\n\u001b[0m\u001b[1;32m    591\u001b[0m \u001b[0;34m\u001b[0m\u001b[0m\n\u001b[1;32m    592\u001b[0m     \u001b[0;32mdef\u001b[0m \u001b[0m_get_options_with_defaults\u001b[0m\u001b[0;34m(\u001b[0m\u001b[0mself\u001b[0m\u001b[0;34m,\u001b[0m \u001b[0mengine\u001b[0m\u001b[0;34m)\u001b[0m\u001b[0;34m:\u001b[0m\u001b[0;34m\u001b[0m\u001b[0m\n",
      "\u001b[0;32m/Users/joshcasale/sprout_env/lib/python2.7/site-packages/pandas/io/parsers.pyc\u001b[0m in \u001b[0;36m_make_engine\u001b[0;34m(self, engine)\u001b[0m\n\u001b[1;32m    729\u001b[0m     \u001b[0;32mdef\u001b[0m \u001b[0m_make_engine\u001b[0m\u001b[0;34m(\u001b[0m\u001b[0mself\u001b[0m\u001b[0;34m,\u001b[0m \u001b[0mengine\u001b[0m\u001b[0;34m=\u001b[0m\u001b[0;34m'c'\u001b[0m\u001b[0;34m)\u001b[0m\u001b[0;34m:\u001b[0m\u001b[0;34m\u001b[0m\u001b[0m\n\u001b[1;32m    730\u001b[0m         \u001b[0;32mif\u001b[0m \u001b[0mengine\u001b[0m \u001b[0;34m==\u001b[0m \u001b[0;34m'c'\u001b[0m\u001b[0;34m:\u001b[0m\u001b[0;34m\u001b[0m\u001b[0m\n\u001b[0;32m--> 731\u001b[0;31m             \u001b[0mself\u001b[0m\u001b[0;34m.\u001b[0m\u001b[0m_engine\u001b[0m \u001b[0;34m=\u001b[0m \u001b[0mCParserWrapper\u001b[0m\u001b[0;34m(\u001b[0m\u001b[0mself\u001b[0m\u001b[0;34m.\u001b[0m\u001b[0mf\u001b[0m\u001b[0;34m,\u001b[0m \u001b[0;34m**\u001b[0m\u001b[0mself\u001b[0m\u001b[0;34m.\u001b[0m\u001b[0moptions\u001b[0m\u001b[0;34m)\u001b[0m\u001b[0;34m\u001b[0m\u001b[0m\n\u001b[0m\u001b[1;32m    732\u001b[0m         \u001b[0;32melse\u001b[0m\u001b[0;34m:\u001b[0m\u001b[0;34m\u001b[0m\u001b[0m\n\u001b[1;32m    733\u001b[0m             \u001b[0;32mif\u001b[0m \u001b[0mengine\u001b[0m \u001b[0;34m==\u001b[0m \u001b[0;34m'python'\u001b[0m\u001b[0;34m:\u001b[0m\u001b[0;34m\u001b[0m\u001b[0m\n",
      "\u001b[0;32m/Users/joshcasale/sprout_env/lib/python2.7/site-packages/pandas/io/parsers.pyc\u001b[0m in \u001b[0;36m__init__\u001b[0;34m(self, src, **kwds)\u001b[0m\n\u001b[1;32m   1101\u001b[0m         \u001b[0mkwds\u001b[0m\u001b[0;34m[\u001b[0m\u001b[0;34m'allow_leading_cols'\u001b[0m\u001b[0;34m]\u001b[0m \u001b[0;34m=\u001b[0m \u001b[0mself\u001b[0m\u001b[0;34m.\u001b[0m\u001b[0mindex_col\u001b[0m \u001b[0;32mis\u001b[0m \u001b[0;32mnot\u001b[0m \u001b[0mFalse\u001b[0m\u001b[0;34m\u001b[0m\u001b[0m\n\u001b[1;32m   1102\u001b[0m \u001b[0;34m\u001b[0m\u001b[0m\n\u001b[0;32m-> 1103\u001b[0;31m         \u001b[0mself\u001b[0m\u001b[0;34m.\u001b[0m\u001b[0m_reader\u001b[0m \u001b[0;34m=\u001b[0m \u001b[0m_parser\u001b[0m\u001b[0;34m.\u001b[0m\u001b[0mTextReader\u001b[0m\u001b[0;34m(\u001b[0m\u001b[0msrc\u001b[0m\u001b[0;34m,\u001b[0m \u001b[0;34m**\u001b[0m\u001b[0mkwds\u001b[0m\u001b[0;34m)\u001b[0m\u001b[0;34m\u001b[0m\u001b[0m\n\u001b[0m\u001b[1;32m   1104\u001b[0m \u001b[0;34m\u001b[0m\u001b[0m\n\u001b[1;32m   1105\u001b[0m         \u001b[0;31m# XXX\u001b[0m\u001b[0;34m\u001b[0m\u001b[0;34m\u001b[0m\u001b[0m\n",
      "\u001b[0;32mpandas/parser.pyx\u001b[0m in \u001b[0;36mpandas.parser.TextReader.__cinit__ (pandas/parser.c:3246)\u001b[0;34m()\u001b[0m\n",
      "\u001b[0;32mpandas/parser.pyx\u001b[0m in \u001b[0;36mpandas.parser.TextReader._setup_parser_source (pandas/parser.c:6111)\u001b[0;34m()\u001b[0m\n",
      "\u001b[0;31mIOError\u001b[0m: File student-data.csv does not exist"
     ],
     "output_type": "error"
    }
   ],
   "source": [
    "# Read student data\n",
    "# I loaded the data this way because the suggested solution does not work on my machine\n",
    "fname = os.path.join(os.getcwd(), 'student_intervention_system/student-data.csv')\n",
    "student_data = pd.read_csv(fname)\n",
    "print str.format(\"Student data read successfully from: {}\", fname)\n",
    "# Note: The last column 'passed' is the target/label, all other are feature columns"
   ]
  },
  {
   "cell_type": "markdown",
   "metadata": {},
   "source": [
    "Now, can you find out the following facts about the dataset?\n",
    "- Total number of students\n",
    "- Number of students who passed\n",
    "- Number of students who failed\n",
    "- Graduation rate of the class (%)\n",
    "- Number of features\n",
    "\n",
    "_Use the code block below to compute these values. Instructions/steps are marked using **TODO**s._"
   ]
  },
  {
   "cell_type": "code",
   "execution_count": 3,
   "metadata": {},
   "outputs": [
    {
     "name": "stdout",
     "output_type": "stream",
     "text": [
      "Total number of students: 395\nNumber of students who passed: 265\nNumber of students who failed: 130\nNumber of features: 31\nGraduation rate of the class: 0.67%\n"
     ]
    }
   ],
   "source": [
    "# TODO: Compute desired values - replace each '?' with an appropriate expression/function call\n",
    "n_students = student_data.shape[0]\n",
    "n_features = student_data.shape[1]\n",
    "n_passed = len([val for val in student_data['passed'] if val == \"yes\"]) \n",
    "n_failed = n_students - n_passed \n",
    "grad_rate = n_passed.__float__()/n_students\n",
    "print \"Total number of students: {}\".format(n_students)\n",
    "print \"Number of students who passed: {}\".format(n_passed)\n",
    "print \"Number of students who failed: {}\".format(n_failed)\n",
    "print \"Number of features: {}\".format(n_features)\n",
    "print \"Graduation rate of the class: {:.2f}%\".format(grad_rate)"
   ]
  },
  {
   "cell_type": "markdown",
   "metadata": {},
   "source": [
    "## 3. Preparing the Data\n",
    "In this section, we will prepare the data for modeling, training and testing.\n",
    "\n",
    "### Identify feature and target columns\n",
    "It is often the case that the data you obtain contains non-numeric features. This can be a problem, as most machine learning algorithms expect numeric data to perform computations with.\n",
    "\n",
    "Let's first separate our data into feature and target columns, and see if any features are non-numeric.<br/>\n",
    "**Note**: For this dataset, the last column (`'passed'`) is the target or label we are trying to predict."
   ]
  },
  {
   "cell_type": "code",
   "execution_count": 4,
   "metadata": {},
   "outputs": [
    {
     "name": "stdout",
     "output_type": "stream",
     "text": [
      "Feature column(s):-\n['school', 'sex', 'age', 'address', 'famsize', 'Pstatus', 'Medu', 'Fedu', 'Mjob', 'Fjob', 'reason', 'guardian', 'traveltime', 'studytime', 'failures', 'schoolsup', 'famsup', 'paid', 'activities', 'nursery', 'higher', 'internet', 'romantic', 'famrel', 'freetime', 'goout', 'Dalc', 'Walc', 'health', 'absences']\nTarget column: passed\n\nFeature values:-\n    school sex  age address famsize Pstatus  Medu  Fedu      Mjob      Fjob  \\\n126     GP   F   15       U     LE3       A     3     4     other     other   \n82      GP   F   15       U     LE3       T     3     2  services     other   \n337     GP   F   17       U     GT3       T     3     2     other     other   \n62      GP   F   16       U     LE3       T     1     2     other  services   \n34      GP   M   16       U     GT3       T     3     2     other     other   \n\n      ...    higher internet  romantic  famrel  freetime goout Dalc Walc  \\\n126   ...       yes      yes       yes       5         3     2    1    1   \n82    ...       yes      yes        no       4         4     4    1    1   \n337   ...       yes      yes       yes       4         3     2    2    3   \n62    ...       yes      yes        no       4         4     3    1    1   \n34    ...       yes      yes        no       5         4     3    1    1   \n\n    health absences  \n126      1        0  \n82       5       10  \n337      2        0  \n62       1        4  \n34       5        0  \n\n[5 rows x 30 columns]\n"
     ]
    }
   ],
   "source": [
    "# Extract feature (X) and target (y) columns\n",
    "feature_cols = list(student_data.columns[:-1])  # all columns but last are features\n",
    "target_col = student_data.columns[-1]  # last column is the target/label\n",
    "print \"Feature column(s):-\\n{}\".format(feature_cols)\n",
    "print \"Target column: {}\".format(target_col)\n",
    "\n",
    "student_data_shuffled = student_data.sample(frac=1)\n",
    "X_all = student_data_shuffled[feature_cols]  # feature values for all students\n",
    "y_all = student_data_shuffled[target_col]  # corresponding targets/labels\n",
    "print \"\\nFeature values:-\"\n",
    "print X_all.head()  # print the first 5 rows"
   ]
  },
  {
   "cell_type": "markdown",
   "metadata": {},
   "source": [
    "### Preprocess feature columns\n",
    "\n",
    "As you can see, there are several non-numeric columns that need to be converted! Many of them are simply `yes`/`no`, e.g. `internet`. These can be reasonably converted into `1`/`0` (binary) values.\n",
    "\n",
    "Other columns, like `Mjob` and `Fjob`, have more than two values, and are known as _categorical variables_. The recommended way to handle such a column is to create as many columns as possible values (e.g. `Fjob_teacher`, `Fjob_other`, `Fjob_services`, etc.), and assign a `1` to one of them and `0` to all others.\n",
    "\n",
    "These generated columns are sometimes called _dummy variables_, and we will use the [`pandas.get_dummies()`](http://pandas.pydata.org/pandas-docs/stable/generated/pandas.get_dummies.html?highlight=get_dummies#pandas.get_dummies) function to perform this transformation."
   ]
  },
  {
   "cell_type": "code",
   "execution_count": 5,
   "metadata": {},
   "outputs": [
    {
     "name": "stdout",
     "output_type": "stream",
     "text": [
      "Processed feature columns (48):-\n['school_GP', 'school_MS', 'sex_F', 'sex_M', 'age', 'address_R', 'address_U', 'famsize_GT3', 'famsize_LE3', 'Pstatus_A', 'Pstatus_T', 'Medu', 'Fedu', 'Mjob_at_home', 'Mjob_health', 'Mjob_other', 'Mjob_services', 'Mjob_teacher', 'Fjob_at_home', 'Fjob_health', 'Fjob_other', 'Fjob_services', 'Fjob_teacher', 'reason_course', 'reason_home', 'reason_other', 'reason_reputation', 'guardian_father', 'guardian_mother', 'guardian_other', 'traveltime', 'studytime', 'failures', 'schoolsup', 'famsup', 'paid', 'activities', 'nursery', 'higher', 'internet', 'romantic', 'famrel', 'freetime', 'goout', 'Dalc', 'Walc', 'health', 'absences']\n"
     ]
    }
   ],
   "source": [
    "# Preprocess feature columns\n",
    "def preprocess_features(X):\n",
    "    outX = pd.DataFrame(index=X.index)  # output dataframe, initially empty\n",
    "\n",
    "    # Check each column\n",
    "    for col, col_data in X.iteritems():\n",
    "        # If data type is non-numeric, try to replace all yes/no values with 1/0\n",
    "        if col_data.dtype == object:\n",
    "            col_data = col_data.replace(['yes', 'no'], [1, 0])\n",
    "        # Note: This should change the data type for yes/no columns to int\n",
    "\n",
    "        # If still non-numeric, convert to one or more dummy variables\n",
    "        if col_data.dtype == object:\n",
    "            col_data = pd.get_dummies(col_data, prefix=col)  # e.g. 'school' => 'school_GP', 'school_MS'\n",
    "\n",
    "        outX = outX.join(col_data)  # collect column(s) in output dataframe\n",
    "\n",
    "    return outX\n",
    "\n",
    "X_all = preprocess_features(X_all)\n",
    "print \"Processed feature columns ({}):-\\n{}\".format(len(X_all.columns), list(X_all.columns))"
   ]
  },
  {
   "cell_type": "markdown",
   "metadata": {},
   "source": [
    "### Split data into training and test sets\n",
    "\n",
    "So far, we have converted all _categorical_ features into numeric values. In this next step, we split the data (both features and corresponding labels) into training and test sets."
   ]
  },
  {
   "cell_type": "code",
   "execution_count": 6,
   "metadata": {},
   "outputs": [
    {
     "name": "stdout",
     "output_type": "stream",
     "text": [
      "Training set: 300 samples\nTest set: 95 samples\n"
     ]
    }
   ],
   "source": [
    "# First, decide how many training vs test samples you want\n",
    "num_all = student_data.shape[0]  # same as len(student_data)\n",
    "num_train = 300  # about 75% of the data\n",
    "num_test = num_all - num_train\n",
    "\n",
    "# TODO: Then, select features (X) and corresponding labels (y) for the training and test sets\n",
    "# Note: Shuffle the data or randomly select samples to avoid any bias due to ordering in the dataset\n",
    "X_train = X_all[0:num_train]\n",
    "y_train = y_all[0:num_train]\n",
    "X_test = X_all[num_train:]\n",
    "y_test = y_all[num_train:]\n",
    "print \"Training set: {} samples\".format(X_train.shape[0])\n",
    "print \"Test set: {} samples\".format(X_test.shape[0])\n",
    "# Note: If you need a validation set, extract it from within training data"
   ]
  },
  {
   "cell_type": "markdown",
   "metadata": {},
   "source": [
    "## 4. Training and Evaluating Models\n",
    "Choose 3 supervised learning models that are available in scikit-learn, and appropriate for this problem. For each model:\n",
    "\n",
    "- What are the general applications of this model? What are its strengths and weaknesses?\n",
    "- Given what you know about the data so far, why did you choose this model to apply?\n",
    "- Fit this model to the training data, try to predict labels (for both training and test sets), and measure the F<sub>1</sub> score. Repeat this process with different training set sizes (100, 200, 300), keeping test set constant.\n",
    "\n",
    "Produce a table showing training time, prediction time, F<sub>1</sub> score on training set and F<sub>1</sub> score on test set, for each training set size.\n",
    "\n",
    "Note: You need to produce 3 such tables - one for each model."
   ]
  },
  {
   "cell_type": "code",
   "execution_count": 53,
   "metadata": {},
   "outputs": [
    {
     "name": "stdout",
     "output_type": "stream",
     "text": [
      "Training DecisionTreeClassifier with 100 data points.\nDone!\nTraining time (secs): 0.0012\nTraining DecisionTreeClassifier with 200 data points.\nDone!\nTraining time (secs): 0.0034\nTraining DecisionTreeClassifier with 300 data points.\nDone!\nTraining time (secs): 0.0021\nTraining LogisticRegression with 100 data points.\nDone!\nTraining time (secs): 0.0011\nTraining LogisticRegression with 200 data points.\nDone!\nTraining time (secs): 0.0015\nTraining LogisticRegression with 300 data points.\nDone!\nTraining time (secs): 0.0032\nTraining RandomForestClassifier with 100 data points.\nDone!\nTraining time (secs): 0.0231\nTraining RandomForestClassifier with 200 data points.\nDone!\nTraining time (secs): 0.0216"
     ]
    },
    {
     "name": "stdout",
     "output_type": "stream",
     "text": [
      "\nTraining RandomForestClassifier with 300 data points.\nDone!\nTraining time (secs): 0.0236\n"
     ]
    }
   ],
   "source": [
    "# Train a model\n",
    "import time\n",
    "import copy\n",
    "\n",
    "def train_classifier(clf, X_train, y_train, training_set_size=len(X_train)):\n",
    "    print \"Training {} with {} data points.\".format(clf.__class__.__name__, training_set_size)\n",
    "    input_X = X_train[0:training_set_size]\n",
    "    input_Y = y_train[0:training_set_size]\n",
    "    start = time.time()\n",
    "    clf.fit(input_X, input_Y)\n",
    "    end = time.time()\n",
    "    training_time = end - start \n",
    "    print \"Done!\\nTraining time (secs): {:.4f}\".format(training_time)\n",
    "    return training_time\n",
    "\n",
    "# TODO: Choose a model, import it and instantiate an object\n",
    "from sklearn.ensemble import RandomForestClassifier\n",
    "from sklearn.tree import DecisionTreeClassifier\n",
    "from sklearn.linear_model import LogisticRegression\n",
    "models = {\n",
    "    'dt': DecisionTreeClassifier(),\n",
    "    'lr': LogisticRegression(),\n",
    "    'rf': RandomForestClassifier(),\n",
    "}\n",
    "\n",
    "trained_classifiers = {}\n",
    "TRAINING_SIZES = [100, 200, 300]\n",
    "for x in TRAINING_SIZES:\n",
    "    trained_classifiers[x] = [] \n",
    "# Fit model to training data\n",
    "for (model_name, model) in models.items():\n",
    "    for training_size in TRAINING_SIZES: \n",
    "        clf = copy.deepcopy(model)\n",
    "        training_time = train_classifier(clf, X_train, y_train, training_size)\n",
    "        new_model_name = model_name + str(training_size)\n",
    "        \n",
    "        trained_classifiers[training_size].append(clf)\n",
    "        \n",
    "        #print trained_classifiers.get(new_model_name).get(\"training_time\")  # you can inspect the learned model by printing it"
   ]
  },
  {
   "cell_type": "code",
   "execution_count": 47,
   "metadata": {},
   "outputs": [
    {
     "name": "stdout",
     "output_type": "stream",
     "text": [
      "Predicting labels using DecisionTreeClassifier...\nDone!\nPrediction time (secs): 0.025\nF1 score for training set: 1.0\nPreciction time for training set of size 200: 0.00101113319397\nPredicting labels using SVC...\nDone!\nPrediction time (secs): 0.025\nF1 score for training set: 0.879194630872\nPreciction time for training set of size 200: 0.00327706336975\nPredicting labels using RandomForestClassifier...\nDone!\nPrediction time (secs): 0.025\nF1 score for training set: 0.988593155894\nPreciction time for training set of size 200: 0.00172305107117\nPredicting labels using DecisionTreeClassifier...\nDone!\nPrediction time (secs): 0.025\nF1 score for training set: 1.0\nPreciction time for training set of size 300: 0.000586032867432\nPredicting labels using SVC...\nDone!\nPrediction time (secs): 0.025\nF1 score for training set: 0.864628820961\nPreciction time for training set of size 300: 0.00539517402649\nPredicting labels using RandomForestClassifier...\nDone!\nPrediction time (secs): 0.025\nF1 score for training set: 0.997518610422\nPreciction time for training set of size 300: 0.00196003913879\nPredicting labels using DecisionTreeClassifier...\nDone!\nPrediction time (secs): 0.025\nF1 score for training set: 1.0\nPreciction time for training set of size 100: 0.000422954559326\nPredicting labels using SVC...\nDone!\nPrediction time (secs): 0.025\nF1 score for training set: 0.847222222222\nPreciction time for training set of size 100: 0.00103878974915\nPredicting labels using RandomForestClassifier...\nDone!\nPrediction time (secs): 0.025\nF1 score for training set: 0.992\nPreciction time for training set of size 100: 0.00130414962769\n"
     ]
    }
   ],
   "source": [
    "# Predict on training set and compute F1 score\n",
    "from sklearn.metrics import f1_score\n",
    "\n",
    "def predict_labels(clf, features, target, num_training_examples=None):\n",
    "    if num_training_examples == None:\n",
    "        num_training_examples=len(target)\n",
    "    print \"Predicting labels using {}...\".format(clf.__class__.__name__)\n",
    "    start = time.time()\n",
    "    y_pred = clf.predict(features[0:num_training_examples])\n",
    "    end = time.time()\n",
    "    prediction_time = end - start\n",
    "    print \"Done!\\nPrediction time (secs): {:.3f}\".format(training_time)\n",
    "    return f1_score(target.values[0:num_training_examples], y_pred, pos_label='yes'), prediction_time\n",
    "\n",
    "for training_set_size in trained_classifiers.keys():\n",
    "    for model in trained_classifiers[training_set_size]:\n",
    "        train_f1_score, prediction_time = predict_labels(model, X_train, y_train, training_set_size)\n",
    "        print \"F1 score for training set: {}\".format(train_f1_score)\n",
    "        print \"Preciction time for training set of size {}: {}\".format(training_set_size, prediction_time)"
   ]
  },
  {
   "cell_type": "code",
   "execution_count": 48,
   "metadata": {},
   "outputs": [
    {
     "name": "stdout",
     "output_type": "stream",
     "text": [
      "Predicting labels using DecisionTreeClassifier...\nDone!\nPrediction time (secs): 0.025\nF1 score for model DecisionTreeClassifier on test set: 0.638655462185\nPrediction time for model DecisionTreeClassifier trained on test set size 200: 0.000761985778809\nPredicting labels using SVC...\nDone!\nPrediction time (secs): 0.025\nF1 score for model SVC on test set: 0.773333333333\nPrediction time for model SVC trained on test set size 200: 0.00153398513794\nPredicting labels using RandomForestClassifier...\nDone!\nPrediction time (secs): 0.025\nF1 score for model RandomForestClassifier on test set: 0.704\nPrediction time for model RandomForestClassifier trained on test set size 200: 0.0015561580658\nPredicting labels using DecisionTreeClassifier...\nDone!\nPrediction time (secs): 0.025\nF1 score for model DecisionTreeClassifier on test set: 0.708661417323\nPrediction time for model DecisionTreeClassifier trained on test set size 300: 0.00046706199646\nPredicting labels using SVC...\nDone!\nPrediction time (secs): 0.025\nF1 score for model SVC on test set: 0.77027027027\nPrediction time for model SVC trained on test set size 300: 0.00207495689392\nPredicting labels using RandomForestClassifier...\nDone!\nPrediction time (secs): 0.025\nF1 score for model RandomForestClassifier on test set: 0.72131147541\nPrediction time for model RandomForestClassifier trained on test set size 300: 0.00148987770081\nPredicting labels using DecisionTreeClassifier...\nDone!\nPrediction time (secs): 0.025\nF1 score for model DecisionTreeClassifier on test set: 0.694214876033\nPrediction time for model DecisionTreeClassifier trained on test set size 100: 0.000463008880615\nPredicting labels using SVC...\nDone!\nPrediction time (secs): 0.025\nF1 score for model SVC on test set: 0.808219178082\nPrediction time for model SVC trained on test set size 100: 0.0010130405426\nPredicting labels using RandomForestClassifier...\nDone!\nPrediction time (secs): 0.025\nF1 score for model RandomForestClassifier on test set: 0.65\nPrediction time for model RandomForestClassifier trained on test set size 100: 0.00133895874023\n"
     ]
    }
   ],
   "source": [
    "# Predict on test data\n",
    "for training_set_size in trained_classifiers.keys():\n",
    "    for model in trained_classifiers[training_set_size]:\n",
    "        test_f1_score, prediction_time = predict_labels(model, X_test, y_test)\n",
    "        print \"F1 score for model {} on test set: {}\".format(model.__class__.__name__, test_f1_score)\n",
    "        print \"Prediction time for model {} trained on test set size {}: {}\".format(\n",
    "            model.__class__.__name__, training_set_size, prediction_time\n",
    "        )"
   ]
  },
  {
   "cell_type": "code",
   "execution_count": 41,
   "metadata": {},
   "outputs": [],
   "source": [
    "# Train and predict using different training set sizes\n",
    "def train_predict(clf, X_train, y_train, X_test, y_test):\n",
    "    print \"------------------------------------------\"\n",
    "    print \"Training set size: {}\".format(len(X_train))\n",
    "    train_classifier(clf, X_train, y_train)\n",
    "    print \"F1 score for training set: {}\".format(predict_labels(clf, X_train, y_train))\n",
    "    print \"F1 score for test set: {}\".format(predict_labels(clf, X_test, y_test))\n",
    "\n",
    "# TODO: Run the helper function above for desired subsets of training data\n",
    "# Note: Keep the test set constant"
   ]
  },
  {
   "cell_type": "code",
   "execution_count": 11,
   "metadata": {},
   "outputs": [],
   "source": [
    "# TODO: Train and predict using two other models\n",
    "\n",
    "# Already done -- did this by iterating through the dictionary of models above."
   ]
  },
  {
   "cell_type": "markdown",
   "metadata": {},
   "source": [
    "## 5. Choosing the Best Model\n",
    "\n",
    "- Based on the experiments you performed earlier, in 1-2 paragraphs explain to the board of supervisors what single model you chose as the best model. Which model is generally the most appropriate based on the available data, limited resources, cost, and performance?\n",
    "- In 1-2 paragraphs explain to the board of supervisors in layman's terms how the final model chosen is supposed to work (for example if you chose a Decision Tree or Support Vector Machine, how does it make a prediction).\n",
    "- Fine-tune the model. Use Gridsearch with at least one important parameter tuned and with at least 3 settings. Use the entire training set for this.\n",
    "- What is the model's final F<sub>1</sub> score?"
   ]
  },
  {
   "cell_type": "code",
   "execution_count": 54,
   "metadata": {},
   "outputs": [
    {
     "name": "stdout",
     "output_type": "stream",
     "text": [
      "Training GridSearchCV with 300 data points.\nDone!\nTraining time (secs): 106.8533"
     ]
    },
    {
     "name": "stdout",
     "output_type": "stream",
     "text": [
      "\nGridSearchCV(cv=None, error_score='raise',\n       estimator=RandomForestClassifier(bootstrap=True, class_weight=None, criterion='gini',\n            max_depth=None, max_features='auto', max_leaf_nodes=None,\n            min_samples_leaf=1, min_samples_split=2,\n            min_weight_fraction_leaf=0.0, n_estimators=10, n_jobs=1,\n            oob_score=False, random_state=None, verbose=0,\n            warm_start=False),\n       fit_params={}, iid=True, n_jobs=1,\n       param_grid={'bootstrap': [True, False], 'min_samples_leaf': [1, 2, 3, 4], 'min_samples_split': [2, 4, 6], 'criterion': ('gini', 'entropy'), 'max_features': ('auto', 'sqrt', 'log2'), 'max_depth': [1, 2, 3, 4, 5, 6, 7, 8, 9]},\n       pre_dispatch='2*n_jobs', refit=True,\n       scoring=make_scorer(f1_score, pos_label=yes), verbose=0)\nPredicting labels using GridSearchCV...\nDone!\nPrediction time (secs): 106.853\nF1 score for training set: 0.822085889571\nPredicting labels using GridSearchCV...\nDone!\nPrediction time (secs): 106.853\nF1 score for test set: 0.802547770701\nTraining RandomizedSearchCV with 300 data points.\nDone!\nTraining time (secs): 8.2750"
     ]
    },
    {
     "name": "stdout",
     "output_type": "stream",
     "text": [
      "\nRandomizedSearchCV(cv=None, error_score='raise',\n          estimator=RandomForestClassifier(bootstrap=True, class_weight=None, criterion='gini',\n            max_depth=None, max_features='auto', max_leaf_nodes=None,\n            min_samples_leaf=1, min_samples_split=2,\n            min_weight_fraction_leaf=0.0, n_estimators=10, n_jobs=1,\n            oob_score=False, random_state=None, verbose=0,\n            warm_start=False),\n          fit_params={}, iid=True, n_iter=100, n_jobs=1,\n          param_distributions={'bootstrap': [True, False], 'min_samples_leaf': [1, 2, 3, 4], 'min_samples_split': [2, 4, 6], 'criterion': ('gini', 'entropy'), 'max_features': ('auto', 'sqrt', 'log2'), 'max_depth': [1, 2, 3, 4, 5, 6, 7, 8, 9]},\n          pre_dispatch='2*n_jobs', random_state=None, refit=True,\n          scoring=make_scorer(f1_score, pos_label=yes), verbose=0)\nPredicting labels using RandomizedSearchCV...\nDone!\nPrediction time (secs): 8.275\nF1 score for training set: 0.845665961945\nPredicting labels using RandomizedSearchCV...\nDone!\nPrediction time (secs): 8.275\nF1 score for test set: 0.792207792208\nTraining GridSearchCV with 300 data points.\nDone!\nTraining time (secs): 6.7774"
     ]
    },
    {
     "name": "stdout",
     "output_type": "stream",
     "text": [
      "\nGridSearchCV(cv=None, error_score='raise',\n       estimator=LogisticRegression(C=1.0, class_weight=None, dual=False, fit_intercept=True,\n          intercept_scaling=1, max_iter=100, multi_class='ovr', n_jobs=1,\n          penalty='l2', random_state=None, solver='liblinear', tol=0.0001,\n          verbose=0, warm_start=False),\n       fit_params={}, iid=True, n_jobs=1,\n       param_grid={'warm_start': [True, False], 'C': [0.001, 0.01, 0.1, 1, 10, 100, 1000], 'n_jobs': [1, 2, 3], 'fit_intercept': [False, True], 'random_state': [None, 42], 'dual': [False, True]},\n       pre_dispatch='2*n_jobs', refit=True,\n       scoring=make_scorer(f1_score, pos_label=yes), verbose=0)\nPredicting labels using GridSearchCV...\nDone!\nPrediction time (secs): 6.777\nF1 score for training set: 0.828157349896\nPredicting labels using GridSearchCV...\nDone!\nPrediction time (secs): 6.777\nF1 score for test set: 0.794871794872\nTraining RandomizedSearchCV with 300 data points.\nDone!\nTraining time (secs): 0.1184"
     ]
    },
    {
     "name": "stdout",
     "output_type": "stream",
     "text": [
      "\nRandomizedSearchCV(cv=None, error_score='raise',\n          estimator=LogisticRegression(C=1.0, class_weight=None, dual=False, fit_intercept=True,\n          intercept_scaling=1, max_iter=100, multi_class='ovr', n_jobs=1,\n          penalty='l2', random_state=None, solver='liblinear', tol=0.0001,\n          verbose=0, warm_start=False),\n          fit_params={}, iid=True, n_iter=5, n_jobs=1,\n          param_distributions={'warm_start': [True, False], 'C': [0.001, 0.01, 0.1, 1, 10, 100, 1000], 'n_jobs': [1, 2, 3], 'fit_intercept': [False, True], 'random_state': [None, 42], 'dual': [False, True]},\n          pre_dispatch='2*n_jobs', random_state=None, refit=True,\n          scoring=make_scorer(f1_score, pos_label=yes), verbose=0)\nPredicting labels using RandomizedSearchCV...\nDone!\nPrediction time (secs): 0.118\nF1 score for training set: 0.828157349896\nPredicting labels using RandomizedSearchCV...\nDone!\nPrediction time (secs): 0.118\nF1 score for test set: 0.794871794872\nTraining RandomizedSearchCV with 300 data points.\nDone!\nTraining time (secs): 1.4470"
     ]
    },
    {
     "name": "stdout",
     "output_type": "stream",
     "text": [
      "\nRandomizedSearchCV(cv=None, error_score='raise',\n          estimator=DecisionTreeClassifier(class_weight=None, criterion='gini', max_depth=None,\n            max_features=None, max_leaf_nodes=None, min_samples_leaf=1,\n            min_samples_split=2, min_weight_fraction_leaf=0.0,\n            presort=False, random_state=None, splitter='best'),\n          fit_params={}, iid=True, n_iter=100, n_jobs=1,\n          param_distributions={'max_features': ('auto', 'sqrt', 'log2'), 'min_samples_split': [2, 4, 6], 'criterion': ('gini', 'entropy'), 'max_depth': [1, 2, 3, 4, 5, 6, 7, 8, 9], 'min_samples_leaf': [1, 2, 3, 4]},\n          pre_dispatch='2*n_jobs', random_state=None, refit=True,\n          scoring=make_scorer(f1_score, pos_label=yes), verbose=0)\nPredicting labels using RandomizedSearchCV...\nDone!\nPrediction time (secs): 1.447\nF1 score for training set: 0.813765182186\nPredicting labels using RandomizedSearchCV...\nDone!\nPrediction time (secs): 1.447\nF1 score for test set: 0.794871794872\nTraining GridSearchCV with 300 data points.\nDone!\nTraining time (secs): 8.0040"
     ]
    },
    {
     "name": "stdout",
     "output_type": "stream",
     "text": [
      "\nGridSearchCV(cv=None, error_score='raise',\n       estimator=DecisionTreeClassifier(class_weight=None, criterion='gini', max_depth=None,\n            max_features=None, max_leaf_nodes=None, min_samples_leaf=1,\n            min_samples_split=2, min_weight_fraction_leaf=0.0,\n            presort=False, random_state=None, splitter='best'),\n       fit_params={}, iid=True, n_jobs=1,\n       param_grid={'max_features': ('auto', 'sqrt', 'log2'), 'min_samples_split': [2, 4, 6], 'criterion': ('gini', 'entropy'), 'max_depth': [1, 2, 3, 4, 5, 6, 7, 8, 9], 'min_samples_leaf': [1, 2, 3, 4]},\n       pre_dispatch='2*n_jobs', refit=True, scoring=None, verbose=0)\nPredicting labels using GridSearchCV...\nDone!\nPrediction time (secs): 8.004\nF1 score for training set: 0.814004376368\nPredicting labels using GridSearchCV...\nDone!\nPrediction time (secs): 8.004\nF1 score for test set: 0.739726027397\n"
     ]
    }
   ],
   "source": [
    "# TODO: Fine-tune your model and report the best F1 score\n",
    "from sklearn.grid_search import RandomizedSearchCV\n",
    "from sklearn.grid_search import GridSearchCV\n",
    "from sklearn.metrics import f1_score\n",
    "from sklearn.metrics import make_scorer\n",
    "f1_scorer = make_scorer(f1_score, pos_label=\"yes\")\n",
    "\n",
    "random_forest_optimization_params = {'max_depth': [i for i in xrange(1,10)],\n",
    "              'criterion':(\"gini\",\"entropy\"),\n",
    "              'max_features':(\"auto\",\"sqrt\",\"log2\"),\n",
    "              \"bootstrap\": [True, False],\n",
    "              'min_samples_leaf': [i for i in xrange(1,5)],\n",
    "              'min_samples_split': [2*i for i in xrange(1,4)],\n",
    "              }\n",
    "decision_tree_optimization_params = {'max_depth': [i for i in xrange(1,10)],\n",
    "              'criterion':(\"gini\",\"entropy\"),\n",
    "              'max_features':(\"auto\",\"sqrt\",\"log2\"),\n",
    "              'min_samples_leaf': [i for i in xrange(1,5)],\n",
    "              'min_samples_split': [2*i for i in xrange(1,4)],\n",
    "              }\n",
    "params_lr = {\n",
    "              'dual': [False, True],\n",
    "              'fit_intercept':[False, True],\n",
    "              'random_state':[None, 42],\n",
    "              'warm_start': [True, False],\n",
    "              'n_jobs' : [1,2,3],\n",
    "              'C': [0.001, 0.01, 0.1, 1, 10, 100, 1000],\n",
    "}\n",
    "optimized_classifiers = {\n",
    "    \"dt_randomized\": {\"clf\": RandomizedSearchCV(DecisionTreeClassifier(), decision_tree_optimization_params, n_iter=100, scoring=f1_scorer)},\n",
    "    \"dt_grid\": {\"clf\": GridSearchCV(DecisionTreeClassifier(), decision_tree_optimization_params)},\n",
    "    \"rf_randomized\": {\"clf\": RandomizedSearchCV(RandomForestClassifier(), random_forest_optimization_params, n_iter=100, scoring=f1_scorer)},\n",
    "    \"rf_grid\": {\"clf\": GridSearchCV(RandomForestClassifier(), random_forest_optimization_params, scoring=f1_scorer)},\n",
    "    \"lr_randomized\": {\"clf\": RandomizedSearchCV(LogisticRegression(), params_lr, n_iter=5, scoring=f1_scorer)},\n",
    "    \"lr_grid\": {\"clf\": GridSearchCV(LogisticRegression(), params_lr, scoring=f1_scorer)}\n",
    "}\n",
    "\n",
    "\n",
    "for model in optimized_classifiers.values():\n",
    "    training_time = train_classifier(model.get(\"clf\"), X_train, y_train)\n",
    "    model[\"training_time\"] = training_time\n",
    "    print model.get(\"clf\")  \n",
    "    train_f1_score, prediction_time = predict_labels(model.get(\"clf\"), X_train, y_train)\n",
    "    \n",
    "    print \"F1 score for training set: {}\".format(train_f1_score)\n",
    "    model[\"train_f1_score\"]  = train_f1_score\n",
    "    model[\"prediction_time_training\"] = prediction_time\n",
    "\n",
    "    test_f1_score, prediction_time = predict_labels(model.get(\"clf\"), X_test, y_test)\n",
    "    print \"F1 score for test set: {}\".format(test_f1_score)\n",
    "    model['prediction_time_test'] = prediction_time"
   ]
  },
  {
   "cell_type": "code",
   "execution_count": null,
   "metadata": {},
   "outputs": [],
   "source": [
    ""
   ]
  },
  {
   "cell_type": "code",
   "execution_count": null,
   "metadata": {},
   "outputs": [],
   "source": [
    ""
   ]
  }
 ],
 "metadata": {
  "kernelspec": {
   "display_name": "Python 2",
   "language": "python",
   "name": "python2"
  },
  "language_info": {
   "codemirror_mode": {
    "name": "ipython",
    "version": 2.0
   },
   "file_extension": ".py",
   "mimetype": "text/x-python",
   "name": "python",
   "nbconvert_exporter": "python",
   "pygments_lexer": "ipython2",
   "version": "2.7.10"
  }
 },
 "nbformat": 4,
 "nbformat_minor": 0
}