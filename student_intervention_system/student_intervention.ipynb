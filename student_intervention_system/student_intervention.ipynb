{
 "cells": [
  {
   "cell_type": "markdown",
   "metadata": {},
   "source": [
    "# Project 2: Supervised Learning\n",
    "### Building a Student Intervention System"
   ]
  },
  {
   "cell_type": "markdown",
   "metadata": {},
   "source": [
    "## 1. Classification vs Regression\n",
    "\n",
    "Your goal is to identify students who might need early intervention - which type of supervised machine learning problem is this, classification or regression? Why?\n",
    "\n",
    "ANSWER: In this problem, we are trying to differentiate students into a discrete number classes (those who need early intervention and those who do not).  Therefore, this is a classification problem."
   ]
  },
  {
   "cell_type": "markdown",
   "metadata": {},
   "source": [
    "## 2. Exploring the Data\n",
    "\n",
    "Let's go ahead and read in the student dataset first.\n",
    "\n",
    "_To execute a code cell, click inside it and press **Shift+Enter**._"
   ]
  },
  {
   "cell_type": "code",
   "execution_count": 1,
   "metadata": {},
   "outputs": [],
   "source": [
    "# Import libraries\n",
    "import numpy as np\n",
    "import pandas as pd\n",
    "import os\n",
    "from sklearn.cross_validation import train_test_split"
   ]
  },
  {
   "cell_type": "code",
   "execution_count": 2,
   "metadata": {},
   "outputs": [
    {
     "name": "stdout",
     "output_type": "stream",
     "text": [
      "Student data read successfully from: /Users/joshcasale/UD_ML/student_intervention_system/student-data.csv\n"
     ]
    }
   ],
   "source": [
    "# Read student data\n",
    "fname = os.path.join(os.getcwd(), 'student_intervention_system/student-data.csv')\n",
    "student_data = pd.read_csv(fname)\n",
    "print str.format(\"Student data read successfully from: {}\", fname)\n",
    "# Note: The last column 'passed' is the target/label, all other are feature columns"
   ]
  },
  {
   "cell_type": "markdown",
   "metadata": {},
   "source": [
    "Now, can you find out the following facts about the dataset?\n",
    "- Total number of students\n",
    "- Number of students who passed\n",
    "- Number of students who failed\n",
    "- Graduation rate of the class (%)\n",
    "- Number of features\n",
    "\n",
    "_Use the code block below to compute these values. Instructions/steps are marked using **TODO**s._"
   ]
  },
  {
   "cell_type": "code",
   "execution_count": 3,
   "metadata": {},
   "outputs": [
    {
     "name": "stdout",
     "output_type": "stream",
     "text": [
      "Total number of students: 395\nNumber of students who passed: 265\nNumber of students who failed: 130\nNumber of features: 31\nGraduation rate of the class: 0.67%\n"
     ]
    }
   ],
   "source": [
    "# TODO: Compute desired values - replace each '?' with an appropriate expression/function call\n",
    "n_students = student_data.shape[0]\n",
    "n_features = student_data.shape[1]\n",
    "n_passed = len([val for val in student_data['passed'] if val == \"yes\"]) \n",
    "n_failed = n_students - n_passed \n",
    "grad_rate = n_passed.__float__()/n_students\n",
    "print \"Total number of students: {}\".format(n_students)\n",
    "print \"Number of students who passed: {}\".format(n_passed)\n",
    "print \"Number of students who failed: {}\".format(n_failed)\n",
    "print \"Number of features: {}\".format(n_features)\n",
    "print \"Graduation rate of the class: {:.2f}%\".format(grad_rate)"
   ]
  },
  {
   "cell_type": "markdown",
   "metadata": {},
   "source": [
    "## 3. Preparing the Data\n",
    "In this section, we will prepare the data for modeling, training and testing.\n",
    "\n",
    "### Identify feature and target columns\n",
    "It is often the case that the data you obtain contains non-numeric features. This can be a problem, as most machine learning algorithms expect numeric data to perform computations with.\n",
    "\n",
    "Let's first separate our data into feature and target columns, and see if any features are non-numeric.<br/>\n",
    "**Note**: For this dataset, the last column (`'passed'`) is the target or label we are trying to predict."
   ]
  },
  {
   "cell_type": "code",
   "execution_count": 4,
   "metadata": {},
   "outputs": [
    {
     "name": "stdout",
     "output_type": "stream",
     "text": [
      "Feature column(s):-\n['school', 'sex', 'age', 'address', 'famsize', 'Pstatus', 'Medu', 'Fedu', 'Mjob', 'Fjob', 'reason', 'guardian', 'traveltime', 'studytime', 'failures', 'schoolsup', 'famsup', 'paid', 'activities', 'nursery', 'higher', 'internet', 'romantic', 'famrel', 'freetime', 'goout', 'Dalc', 'Walc', 'health', 'absences']\nTarget column: passed\n\nFeature values:-\n    school sex  age address famsize Pstatus  Medu  Fedu      Mjob      Fjob  \\\n366     MS   M   18       U     LE3       T     4     4   teacher  services   \n221     GP   F   17       U     GT3       T     1     1   at_home     other   \n134     GP   M   15       R     GT3       T     3     4   at_home   teacher   \n128     GP   M   18       R     GT3       T     2     2  services     other   \n104     GP   M   15       U     GT3       A     3     4  services     other   \n\n      ...    higher internet  romantic  famrel  freetime goout Dalc Walc  \\\n366   ...       yes      yes       yes       4         2     2    2    2   \n221   ...       yes       no       yes       4         3     4    1    1   \n134   ...       yes       no       yes       5         3     3    1    1   \n128   ...       yes      yes        no       3         3     3    1    2   \n104   ...       yes      yes        no       5         4     4    1    1   \n\n    health absences  \n366      5        0  \n221      5        0  \n134      5        0  \n128      4        0  \n104      1        0  \n\n[5 rows x 30 columns]\n"
     ]
    }
   ],
   "source": [
    "# Extract feature (X) and target (y) columns\n",
    "feature_cols = list(student_data.columns[:-1])  # all columns but last are features\n",
    "target_col = student_data.columns[-1]  # last column is the target/label\n",
    "print \"Feature column(s):-\\n{}\".format(feature_cols)\n",
    "print \"Target column: {}\".format(target_col)\n",
    "\n",
    "student_data_shuffled = student_data.sample(frac=1)\n",
    "X_all = student_data_shuffled[feature_cols]  # feature values for all students\n",
    "y_all = student_data_shuffled[target_col]  # corresponding targets/labels\n",
    "print \"\\nFeature values:-\"\n",
    "print X_all.head()  # print the first 5 rows"
   ]
  },
  {
   "cell_type": "markdown",
   "metadata": {},
   "source": [
    "### Preprocess feature columns\n",
    "\n",
    "As you can see, there are several non-numeric columns that need to be converted! Many of them are simply `yes`/`no`, e.g. `internet`. These can be reasonably converted into `1`/`0` (binary) values.\n",
    "\n",
    "Other columns, like `Mjob` and `Fjob`, have more than two values, and are known as _categorical variables_. The recommended way to handle such a column is to create as many columns as possible values (e.g. `Fjob_teacher`, `Fjob_other`, `Fjob_services`, etc.), and assign a `1` to one of them and `0` to all others.\n",
    "\n",
    "These generated columns are sometimes called _dummy variables_, and we will use the [`pandas.get_dummies()`](http://pandas.pydata.org/pandas-docs/stable/generated/pandas.get_dummies.html?highlight=get_dummies#pandas.get_dummies) function to perform this transformation."
   ]
  },
  {
   "cell_type": "code",
   "execution_count": 5,
   "metadata": {},
   "outputs": [
    {
     "name": "stdout",
     "output_type": "stream",
     "text": [
      "Processed feature columns (48):-\n['school_GP', 'school_MS', 'sex_F', 'sex_M', 'age', 'address_R', 'address_U', 'famsize_GT3', 'famsize_LE3', 'Pstatus_A', 'Pstatus_T', 'Medu', 'Fedu', 'Mjob_at_home', 'Mjob_health', 'Mjob_other', 'Mjob_services', 'Mjob_teacher', 'Fjob_at_home', 'Fjob_health', 'Fjob_other', 'Fjob_services', 'Fjob_teacher', 'reason_course', 'reason_home', 'reason_other', 'reason_reputation', 'guardian_father', 'guardian_mother', 'guardian_other', 'traveltime', 'studytime', 'failures', 'schoolsup', 'famsup', 'paid', 'activities', 'nursery', 'higher', 'internet', 'romantic', 'famrel', 'freetime', 'goout', 'Dalc', 'Walc', 'health', 'absences']\n"
     ]
    }
   ],
   "source": [
    "# Preprocess feature columns\n",
    "def preprocess_features(X):\n",
    "    outX = pd.DataFrame(index=X.index)  # output dataframe, initially empty\n",
    "\n",
    "    # Check each column\n",
    "    for col, col_data in X.iteritems():\n",
    "        # If data type is non-numeric, try to replace all yes/no values with 1/0\n",
    "        if col_data.dtype == object:\n",
    "            col_data = col_data.replace(['yes', 'no'], [1, 0])\n",
    "        # Note: This should change the data type for yes/no columns to int\n",
    "\n",
    "        # If still non-numeric, convert to one or more dummy variables\n",
    "        if col_data.dtype == object:\n",
    "            col_data = pd.get_dummies(col_data, prefix=col)  # e.g. 'school' => 'school_GP', 'school_MS'\n",
    "\n",
    "        outX = outX.join(col_data)  # collect column(s) in output dataframe\n",
    "\n",
    "    return outX\n",
    "\n",
    "X_all = preprocess_features(X_all)\n",
    "print \"Processed feature columns ({}):-\\n{}\".format(len(X_all.columns), list(X_all.columns))"
   ]
  },
  {
   "cell_type": "markdown",
   "metadata": {},
   "source": [
    "### Split data into training and test sets\n",
    "\n",
    "So far, we have converted all _categorical_ features into numeric values. In this next step, we split the data (both features and corresponding labels) into training and test sets."
   ]
  },
  {
   "cell_type": "code",
   "execution_count": 6,
   "metadata": {},
   "outputs": [
    {
     "name": "stdout",
     "output_type": "stream",
     "text": [
      "Training set: 300 samples\nTest set: 95 samples\n"
     ]
    }
   ],
   "source": [
    "# First, decide how many training vs test samples you want\n",
    "num_all = student_data.shape[0]  # same as len(student_data)\n",
    "num_train = 300  # about 75% of the data\n",
    "num_test = num_all - num_train\n",
    "\n",
    "# TODO: Then, select features (X) and corresponding labels (y) for the training and test sets\n",
    "# Note: Shuffle the data or randomly select samples to avoid any bias due to ordering in the dataset\n",
    "X_train = X_all[0:num_train]\n",
    "y_train = y_all[0:num_train]\n",
    "X_test = X_all[num_train:]\n",
    "y_test = y_all[num_train:]\n",
    "print \"Training set: {} samples\".format(X_train.shape[0])\n",
    "print \"Test set: {} samples\".format(X_test.shape[0])\n",
    "# Note: If you need a validation set, extract it from within training data"
   ]
  },
  {
   "cell_type": "markdown",
   "metadata": {},
   "source": [
    "## 4. Training and Evaluating Models\n",
    "Choose 3 supervised learning models that are available in scikit-learn, and appropriate for this problem. For each model:\n",
    "\n",
    "- What are the general applications of this model? What are its strengths and weaknesses?\n",
    "- Given what you know about the data so far, why did you choose this model to apply?\n",
    "- Fit this model to the training data, try to predict labels (for both training and test sets), and measure the F<sub>1</sub> score. Repeat this process with different training set sizes (100, 200, 300), keeping test set constant.\n",
    "\n",
    "Produce a table showing training time, prediction time, F<sub>1</sub> score on training set and F<sub>1</sub> score on test set, for each training set size.\n",
    "\n",
    "Note: You need to produce 3 such tables - one for each model."
   ]
  },
  {
   "cell_type": "code",
   "execution_count": 17,
   "metadata": {},
   "outputs": [
    {
     "name": "stdout",
     "output_type": "stream",
     "text": [
      "------------------------------------------------------------\nTraining with 100 data points...\nTraining DecisionTreeClassifier...\nDone!\nTraining time (secs): 0.002\n------------------------------------------------------------\nTraining with 200 data points...\nTraining DecisionTreeClassifier...\nDone!\nTraining time (secs): 0.002\n------------------------------------------------------------\nTraining with 300 data points...\nTraining DecisionTreeClassifier...\nDone!\nTraining time (secs): 0.002\n------------------------------------------------------------\nTraining with 100 data points...\nTraining LogisticRegression...\nDone!\nTraining time (secs): 0.001\n------------------------------------------------------------\nTraining with 200 data points...\nTraining LogisticRegression...\nDone!\nTraining time (secs): 0.002\n------------------------------------------------------------\nTraining with 300 data points...\nTraining LogisticRegression...\nDone!\nTraining time (secs): 0.003\n------------------------------------------------------------\nTraining with 100 data points...\nTraining RandomForestClassifier...\nDone!\nTraining time (secs): 0.024\n------------------------------------------------------------\nTraining with 200 data points...\nTraining RandomForestClassifier...\nDone!\nTraining time (secs): 0.023"
     ]
    },
    {
     "name": "stdout",
     "output_type": "stream",
     "text": [
      "\n------------------------------------------------------------\nTraining with 300 data points...\nTraining RandomForestClassifier...\nDone!\nTraining time (secs): 0.024\n"
     ]
    }
   ],
   "source": [
    "# Train a model\n",
    "import time\n",
    "import copy\n",
    "\n",
    "def train_classifier(clf, X_train, y_train, training_set_size=len(X_train)):\n",
    "    print \"Training {}...\".format(clf.__class__.__name__)\n",
    "    start = time.time()\n",
    "    input_X = X_train[0:training_set_size]\n",
    "    input_Y = y_train[0:training_set_size]\n",
    "    clf.fit(input_X, input_Y)\n",
    "    end = time.time()\n",
    "    training_time = end - start \n",
    "    print \"Done!\\nTraining time (secs): {:.3f}\".format(training_time)\n",
    "    return training_time\n",
    "\n",
    "# TODO: Choose a model, import it and instantiate an object\n",
    "from sklearn.ensemble import RandomForestClassifier\n",
    "from sklearn.tree import DecisionTreeClassifier\n",
    "from sklearn.linear_model import LogisticRegression\n",
    "\n",
    "classifiers = {\n",
    "    \"dt\": {\"clf\": DecisionTreeClassifier()},\n",
    "    \"rf\": {\"clf\": RandomForestClassifier()},\n",
    "    \"lr\": {\"clf\": LogisticRegression()}\n",
    "}\n",
    "trained_classifiers = {}\n",
    "\n",
    "TRAINING_SIZES = [100, 200, 300]\n",
    "# Fit model to training data\n",
    "for model in classifiers.keys():\n",
    "    for training_size in TRAINING_SIZES:\n",
    "        print \"------------------------------------------------------------\\nTraining with {} data points...\".format(training_size)\n",
    "        base_model = copy.deepcopy(classifiers.get(model))\n",
    "        training_time = train_classifier(base_model.get(\"clf\"), X_train, y_train, training_size)\n",
    "        new_model_name = model+ str(training_size)\n",
    "        trained_classifiers[new_model_name] = base_model\n",
    "        trained_classifiers[new_model_name][\"training_time\"] = training_time\n",
    "        \n",
    "        #print trained_classifiers.get(new_model_name).get(\"training_time\")  # you can inspect the learned model by printing it"
   ]
  },
  {
   "cell_type": "code",
   "execution_count": 8,
   "metadata": {},
   "outputs": [
    {
     "name": "stdout",
     "output_type": "stream",
     "text": [
      "Predicting labels using DecisionTreeClassifier...\nDone!\nPrediction time (secs): 0.024\nF1 score for training set: 0.814117647059\nPredicting labels using RandomForestClassifier...\nDone!\nPrediction time (secs): 0.024\nF1 score for training set: 0.828947368421\nPredicting labels using LogisticRegression...\nDone!\nPrediction time (secs): 0.024\nF1 score for training set: 0.829694323144\nPredicting labels using DecisionTreeClassifier...\nDone!\nPrediction time (secs): 0.024\nF1 score for training set: 0.903381642512\nPredicting labels using LogisticRegression...\nDone!\nPrediction time (secs): 0.024\nF1 score for training set: 0.810810810811\nPredicting labels using DecisionTreeClassifier...\nDone!\nPrediction time (secs): 0.024\nF1 score for training set: 1.0\nPredicting labels using RandomForestClassifier...\nDone!\nPrediction time (secs): 0.024\nF1 score for training set: 0.8995215311\nPredicting labels using LogisticRegression...\nDone!\nPrediction time (secs): 0.024\nF1 score for training set: 0.819444444444\nPredicting labels using RandomForestClassifier...\nDone!\nPrediction time (secs): 0.024\nF1 score for training set: 0.995024875622\n"
     ]
    }
   ],
   "source": [
    "# Predict on training set and compute F1 score\n",
    "from sklearn.metrics import f1_score\n",
    "\n",
    "def predict_labels(clf, features, target):\n",
    "    print \"Predicting labels using {}...\".format(clf.__class__.__name__)\n",
    "    start = time.time()\n",
    "    y_pred = clf.predict(features)\n",
    "    end = time.time()\n",
    "    prediction_time = end - start\n",
    "    print \"Done!\\nPrediction time (secs): {:.3f}\".format(training_time)\n",
    "    return f1_score(target.values, y_pred, pos_label='yes'), prediction_time\n",
    "\n",
    "for model in trained_classifiers.values():\n",
    "    train_f1_score, prediction_time = predict_labels(model.get(\"clf\"), X_train, y_train)\n",
    "    print \"F1 score for training set: {}\".format(train_f1_score)\n",
    "    model[\"train_f1_score\"]  = train_f1_score\n",
    "    model[\"prediction_time_training\"] = prediction_time"
   ]
  },
  {
   "cell_type": "code",
   "execution_count": 9,
   "metadata": {},
   "outputs": [
    {
     "name": "stdout",
     "output_type": "stream",
     "text": [
      "Predicting labels using DecisionTreeClassifier...\nDone!\nPrediction time (secs): 0.024\nF1 score for model dt100 on test set: 0.75\nPredicting labels using RandomForestClassifier...\nDone!\nPrediction time (secs): 0.024\nF1 score for model rf100 on test set: 0.732394366197\nPredicting labels using LogisticRegression...\nDone!\nPrediction time (secs): 0.024\nF1 score for model lr100 on test set: 0.813793103448\nPredicting labels using DecisionTreeClassifier...\nDone!\nPrediction time (secs): 0.024\nF1 score for model dt200 on test set: 0.75\nPredicting labels using LogisticRegression...\nDone!\nPrediction time (secs): 0.024\nF1 score for model lr200 on test set: 0.762589928058\nPredicting labels using DecisionTreeClassifier...\nDone!\nPrediction time (secs): 0.024\nF1 score for model dt300 on test set: 0.728682170543\nPredicting labels using RandomForestClassifier...\nDone!\nPrediction time (secs): 0.024\nF1 score for model rf200 on test set: 0.755905511811\nPredicting labels using LogisticRegression...\nDone!\nPrediction time (secs): 0.024\nF1 score for model lr300 on test set: 0.794117647059\nPredicting labels using RandomForestClassifier...\nDone!\nPrediction time (secs): 0.024\nF1 score for model rf300 on test set: 0.748091603053\n"
     ]
    }
   ],
   "source": [
    "# Predict on test data\n",
    "for model in trained_classifiers.keys():\n",
    "    test_f1_score, prediction_time = predict_labels(trained_classifiers.get(model).get(\"clf\"), X_test, y_test)\n",
    "    print \"F1 score for model {} on test set: {}\".format(model, test_f1_score)\n",
    "    trained_classifiers.get(model)['prediction_time_test'] = prediction_time"
   ]
  },
  {
   "cell_type": "code",
   "execution_count": 10,
   "metadata": {},
   "outputs": [],
   "source": [
    "# Train and predict using different training set sizes\n",
    "def train_predict(clf, X_train, y_train, X_test, y_test):\n",
    "    print \"------------------------------------------\"\n",
    "    print \"Training set size: {}\".format(len(X_train))\n",
    "    train_classifier(clf, X_train, y_train)\n",
    "    print \"F1 score for training set: {}\".format(predict_labels(clf, X_train, y_train))\n",
    "    print \"F1 score for test set: {}\".format(predict_labels(clf, X_test, y_test))\n",
    "\n",
    "# TODO: Run the helper function above for desired subsets of training data\n",
    "# Note: Keep the test set constant"
   ]
  },
  {
   "cell_type": "code",
   "execution_count": 11,
   "metadata": {},
   "outputs": [],
   "source": [
    "# TODO: Train and predict using two other models\n",
    "# Already done -- did this by iterating through the dictionary of models above."
   ]
  },
  {
   "cell_type": "markdown",
   "metadata": {},
   "source": [
    "## 5. Choosing the Best Model\n",
    "\n",
    "- Based on the experiments you performed earlier, in 1-2 paragraphs explain to the board of supervisors what single model you chose as the best model. Which model is generally the most appropriate based on the available data, limited resources, cost, and performance?\n",
    "- In 1-2 paragraphs explain to the board of supervisors in layman's terms how the final model chosen is supposed to work (for example if you chose a Decision Tree or Support Vector Machine, how does it make a prediction).\n",
    "- Fine-tune the model. Use Gridsearch with at least one important parameter tuned and with at least 3 settings. Use the entire training set for this.\n",
    "- What is the model's final F<sub>1</sub> score?"
   ]
  },
  {
   "cell_type": "code",
   "execution_count": 19,
   "metadata": {},
   "outputs": [
    {
     "name": "stdout",
     "output_type": "stream",
     "text": [
      "Training GridSearchCV...\nDone!\nTraining time (secs): 109.834"
     ]
    },
    {
     "name": "stdout",
     "output_type": "stream",
     "text": [
      "\nGridSearchCV(cv=None, error_score='raise',\n       estimator=RandomForestClassifier(bootstrap=True, class_weight=None, criterion='gini',\n            max_depth=None, max_features='auto', max_leaf_nodes=None,\n            min_samples_leaf=1, min_samples_split=2,\n            min_weight_fraction_leaf=0.0, n_estimators=10, n_jobs=1,\n            oob_score=False, random_state=None, verbose=0,\n            warm_start=False),\n       fit_params={}, iid=True, n_jobs=1,\n       param_grid={'bootstrap': [True, False], 'min_samples_leaf': [1, 2, 3, 4], 'min_samples_split': [2, 4, 6], 'criterion': ('gini', 'entropy'), 'max_features': ('auto', 'sqrt', 'log2'), 'max_depth': [1, 2, 3, 4, 5, 6, 7, 8, 9]},\n       pre_dispatch='2*n_jobs', refit=True, scoring=None, verbose=0)\nPredicting labels using GridSearchCV...\nDone!\nPrediction time (secs): 109.834\nF1 score for training set: 0.859611231102\n"
     ]
    },
    {
     "ename": "NameError",
     "evalue": "name 'predsict_labels' is not defined",
     "traceback": [
      "\u001b[0;31m---------------------------------------------------------------------------\u001b[0m",
      "\u001b[0;31mNameError\u001b[0m                                 Traceback (most recent call last)",
      "\u001b[0;32m<ipython-input-19-a699497409ac>\u001b[0m in \u001b[0;36m<module>\u001b[0;34m()\u001b[0m\n\u001b[1;32m     43\u001b[0m     \u001b[0mmodel\u001b[0m\u001b[0;34m[\u001b[0m\u001b[0;34m\"prediction_time_training\"\u001b[0m\u001b[0;34m]\u001b[0m \u001b[0;34m=\u001b[0m \u001b[0mprediction_time\u001b[0m\u001b[0;34m\u001b[0m\u001b[0m\n\u001b[1;32m     44\u001b[0m \u001b[0;34m\u001b[0m\u001b[0m\n\u001b[0;32m---> 45\u001b[0;31m     \u001b[0mtest_f1_score\u001b[0m\u001b[0;34m,\u001b[0m \u001b[0mprediction_time\u001b[0m \u001b[0;34m=\u001b[0m \u001b[0mpredsict_labels\u001b[0m\u001b[0;34m(\u001b[0m\u001b[0mmodel\u001b[0m\u001b[0;34m.\u001b[0m\u001b[0mget\u001b[0m\u001b[0;34m(\u001b[0m\u001b[0;34m\"clf\"\u001b[0m\u001b[0;34m)\u001b[0m\u001b[0;34m,\u001b[0m \u001b[0mX_test\u001b[0m\u001b[0;34m,\u001b[0m \u001b[0my_test\u001b[0m\u001b[0;34m)\u001b[0m\u001b[0;34m\u001b[0m\u001b[0m\n\u001b[0m\u001b[1;32m     46\u001b[0m     \u001b[0;32mprint\u001b[0m \u001b[0;34m\"F1 score for test set: {}\"\u001b[0m\u001b[0;34m.\u001b[0m\u001b[0mformat\u001b[0m\u001b[0;34m(\u001b[0m\u001b[0mtest_f1_score\u001b[0m\u001b[0;34m)\u001b[0m\u001b[0;34m\u001b[0m\u001b[0m\n\u001b[1;32m     47\u001b[0m     \u001b[0mmodel\u001b[0m\u001b[0;34m[\u001b[0m\u001b[0;34m'prediction_time_test'\u001b[0m\u001b[0;34m]\u001b[0m \u001b[0;34m=\u001b[0m \u001b[0mprediction_time\u001b[0m\u001b[0;34m\u001b[0m\u001b[0m\n",
      "\u001b[0;31mNameError\u001b[0m: name 'predsict_labels' is not defined"
     ],
     "output_type": "error"
    }
   ],
   "source": [
    "# TODO: Fine-tune your model and report the best F1 score\n",
    "from sklearn.grid_search import RandomizedSearchCV\n",
    "from sklearn.grid_search import GridSearchCV\n",
    "\n",
    "random_forest_optimization_params = {'max_depth': [i for i in xrange(1,10)],\n",
    "              'criterion':(\"gini\",\"entropy\"),\n",
    "              'max_features':(\"auto\",\"sqrt\",\"log2\"),\n",
    "              \"bootstrap\": [True, False],\n",
    "              'min_samples_leaf': [i for i in xrange(1,5)],\n",
    "              'min_samples_split': [2*i for i in xrange(1,4)],\n",
    "              }\n",
    "decision_tree_optimization_params = {'max_depth': [i for i in xrange(1,10)],\n",
    "              'criterion':(\"gini\",\"entropy\"),\n",
    "              'max_features':(\"auto\",\"sqrt\",\"log2\"),\n",
    "              'min_samples_leaf': [i for i in xrange(1,5)],\n",
    "              'min_samples_split': [2*i for i in xrange(1,4)],\n",
    "              }\n",
    "params_lr = {\n",
    "              'dual': [False, True],\n",
    "              'fit_intercept':[False, True],\n",
    "              'random_state':[None, 42],\n",
    "              'warm_start': [True, False],\n",
    "              'n_jobs' : [1,2,3],\n",
    "}\n",
    "optimized_classifiers = {\n",
    "    \"dt_randomized\": {\"clf\": RandomizedSearchCV(DecisionTreeClassifier(), random_forest_optimization_params, n_iter=100)},\n",
    "    \"dt_grid\": {\"clf\": GridSearchCV(DecisionTreeClassifier(), random_forest_optimization_params)},\n",
    "    \"rf_randomized\": {\"clf\": RandomizedSearchCV(RandomForestClassifier(), random_forest_optimization_params, n_iter=100)},\n",
    "    \"rf_grid\": {\"clf\": GridSearchCV(RandomForestClassifier(), random_forest_optimization_params)},\n",
    "    \"lr_randomized\": {\"clf\": RandomizedSearchCV(LogisticRegression(), params_lr, n_iter=5)},\n",
    "    \"lr_grid\": {\"clf\": RandomizedSearchCV(LogisticRegression(), params_lr)}\n",
    "}\n",
    "\n",
    "\n",
    "for model in optimized_classifiers.values():\n",
    "    training_time = train_classifier(model.get(\"clf\"), X_train, y_train)\n",
    "    model[\"training_time\"] = training_time\n",
    "    print model.get(\"clf\")  \n",
    "    train_f1_score, prediction_time = predict_labels(model.get(\"clf\"), X_train, y_train)\n",
    "    \n",
    "    print \"F1 score for training set: {}\".format(train_f1_score)\n",
    "    model[\"train_f1_score\"]  = train_f1_score\n",
    "    model[\"prediction_time_training\"] = prediction_time\n",
    "\n",
    "    test_f1_score, prediction_time = predsict_labels(model.get(\"clf\"), X_test, y_test)\n",
    "    print \"F1 score for test set: {}\".format(test_f1_score)\n",
    "    model['prediction_time_test'] = prediction_time"
   ]
  },
  {
   "cell_type": "code",
   "execution_count": null,
   "metadata": {},
   "outputs": [],
   "source": [
    ""
   ]
  },
  {
   "cell_type": "code",
   "execution_count": null,
   "metadata": {},
   "outputs": [],
   "source": [
    ""
   ]
  }
 ],
 "metadata": {
  "kernelspec": {
   "display_name": "Python 2",
   "language": "python",
   "name": "python2"
  },
  "language_info": {
   "codemirror_mode": {
    "name": "ipython",
    "version": 2.0
   },
   "file_extension": ".py",
   "mimetype": "text/x-python",
   "name": "python",
   "nbconvert_exporter": "python",
   "pygments_lexer": "ipython2",
   "version": "2.7.10"
  }
 },
 "nbformat": 4,
 "nbformat_minor": 0
}